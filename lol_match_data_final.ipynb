{
 "cells": [
  {
   "cell_type": "code",
   "execution_count": 1,
   "metadata": {},
   "outputs": [],
   "source": [
    "import pandas as pd\n",
    "from pprint import pprint\n",
    "import ast\n",
    "import numpy as np"
   ]
  },
  {
   "attachments": {},
   "cell_type": "markdown",
   "metadata": {},
   "source": [
    "# match data 전처리"
   ]
  },
  {
   "cell_type": "code",
   "execution_count": null,
   "metadata": {},
   "outputs": [],
   "source": [
    "match_df = pd.read_csv('match_data_version1.csv')\n",
    "match_df.shape"
   ]
  },
  {
   "attachments": {},
   "cell_type": "markdown",
   "metadata": {},
   "source": [
    "### 원본 데이터 확인"
   ]
  },
  {
   "cell_type": "code",
   "execution_count": null,
   "metadata": {},
   "outputs": [],
   "source": [
    "list(match_df.columns)"
   ]
  },
  {
   "cell_type": "code",
   "execution_count": null,
   "metadata": {},
   "outputs": [],
   "source": [
    "match_df.head()"
   ]
  },
  {
   "attachments": {},
   "cell_type": "markdown",
   "metadata": {},
   "source": [
    "### 필요없는 컬럼 제외"
   ]
  },
  {
   "cell_type": "code",
   "execution_count": null,
   "metadata": {},
   "outputs": [],
   "source": [
    "match_df = match_df.drop(['Unnamed: 0','gameCreation','gameMode','gameType','mapId','platformId','seasonId','status.message','status.status_code'], axis=1)"
   ]
  },
  {
   "cell_type": "code",
   "execution_count": null,
   "metadata": {},
   "outputs": [],
   "source": [
    "match_df.head()"
   ]
  },
  {
   "attachments": {},
   "cell_type": "markdown",
   "metadata": {},
   "source": [
    "### 중복 데이터 제거"
   ]
  },
  {
   "cell_type": "code",
   "execution_count": null,
   "metadata": {},
   "outputs": [],
   "source": [
    "match_df = match_df.drop_duplicates(['gameId'])"
   ]
  },
  {
   "attachments": {},
   "cell_type": "markdown",
   "metadata": {},
   "source": [
    "### 5v5 랭크게임 및 Reset 게임 제외"
   ]
  },
  {
   "cell_type": "code",
   "execution_count": null,
   "metadata": {},
   "outputs": [],
   "source": [
    "match_df = match_df[(match_df[\"queueId\"] == 420) & (match_df[\"gameDuration\"] > 240)]  # queueId : 420 -> 5v5 Ranked games\n",
    "                                                                                        # https://static.developer.riotgames.com/docs/lol/queues.json 참고\n",
    "                                                                                      # 게임시간 3분( + 게임재시작 투표시간 1분) 이전에 종료된 게임 제외0  "
   ]
  },
  {
   "attachments": {},
   "cell_type": "markdown",
   "metadata": {},
   "source": [
    "### Dictionary 타입 데이터 확인"
   ]
  },
  {
   "cell_type": "code",
   "execution_count": null,
   "metadata": {},
   "outputs": [],
   "source": [
    "pprint(eval(match_df['participantIdentities'][1]))"
   ]
  },
  {
   "cell_type": "code",
   "execution_count": null,
   "metadata": {},
   "outputs": [],
   "source": [
    "pprint(eval(match_df['participants'][1]))"
   ]
  },
  {
   "attachments": {},
   "cell_type": "markdown",
   "metadata": {},
   "source": [
    "### nested dictionary를 위한 재귀함수"
   ]
  },
  {
   "cell_type": "code",
   "execution_count": null,
   "metadata": {},
   "outputs": [],
   "source": [
    "def solve_dict_column(dict_to_iterate, upper_key=None, pID = None):            # 하드 코딩, 추후 수정 필요\n",
    "    global column_list\n",
    "    global value_list\n",
    "    for key, value in dict_to_iterate.items():\n",
    "        if key == 'participantId':\n",
    "            pID = 'P' + str(value)\n",
    "        \n",
    "        if type(value) == dict:\n",
    "            solve_dict_column(value, key, pID)\n",
    "        else:\n",
    "            if upper_key == None:\n",
    "                column_list.append(pID+ '_' + key)\n",
    "\n",
    "            else :\n",
    "                column_list.append(pID + '_' + str(upper_key) + '_' + key)\n",
    "            value_list.append(value)\n"
   ]
  },
  {
   "attachments": {},
   "cell_type": "markdown",
   "metadata": {},
   "source": [
    "# 메모리 효율적으로 쓰게 수정 필요"
   ]
  },
  {
   "attachments": {},
   "cell_type": "markdown",
   "metadata": {},
   "source": [
    "### match data 의 participants, participantIdentities 칼럼의 nested dictionary to Dataframe (string)"
   ]
  },
  {
   "cell_type": "code",
   "execution_count": null,
   "metadata": {},
   "outputs": [],
   "source": [
    "resolved = pd.DataFrame()\n",
    "n = match_df.shape[0]\n",
    "except_list = []\n",
    "\n",
    "for i in range(n):\n",
    "    temp = pd.DataFrame()\n",
    "    column_list = []\n",
    "    value_list = []\n",
    "    if (len(eval(match_df.iloc[i]['participants'])) ==10) and  (len(eval(match_df.iloc[i]['participantIdentities'])) == 10):\n",
    "        for x,y in enumerate([0,1,2,5]):\n",
    "            column_list.append(match_df.columns[y])\n",
    "            value_list.append(match_df.loc[i][y])\n",
    "        for j in range(10):\n",
    "            solve_dict_column(ast.literal_eval(match_df['participants'][i])[j])\n",
    "            solve_dict_column(ast.literal_eval(match_df['participantIdentities'][i])[j])\n",
    "\n",
    "        d=[]\n",
    "        new_d = [] # 중복된 원소만 넣는 리스트\n",
    "        for k in column_list:\n",
    "            if k not in d: # 처음 등장한 원소\n",
    "                d.append(k)\n",
    "            else:\n",
    "                if k not in new_d: # 이미 중복 원소로 판정된 경우는 제외\n",
    "                    new_d.append(k)\n",
    "\n",
    "        new_d # [1, 2] # 2회 이상 등장한 값들만 담긴 리스트\n",
    "        \n",
    "        temp = pd.DataFrame(data=[value_list], columns=column_list)\n",
    "        temp = temp.drop(new_d, axis=1)\n",
    "\n",
    "        resolved = pd.concat([resolved, temp], axis=0)\n",
    "    else:\n",
    "        except_list.append(i)\n",
    "\n",
    "    if (i%1000) == 0:\n",
    "        print(i)\n",
    "\n",
    "\n",
    "resolved.head()"
   ]
  },
  {
   "attachments": {},
   "cell_type": "markdown",
   "metadata": {},
   "source": [
    "### 중간 저장"
   ]
  },
  {
   "cell_type": "code",
   "execution_count": null,
   "metadata": {},
   "outputs": [],
   "source": [
    "resolved.to_csv('resolved.csv')"
   ]
  },
  {
   "attachments": {},
   "cell_type": "markdown",
   "metadata": {},
   "source": [
    "### Dict 변환 후 필요없는 컬럼 제거"
   ]
  },
  {
   "cell_type": "code",
   "execution_count": null,
   "metadata": {},
   "outputs": [],
   "source": [
    "col_name=resolved.columns.tolist()\n",
    "col_name"
   ]
  },
  {
   "cell_type": "code",
   "execution_count": null,
   "metadata": {},
   "outputs": [],
   "source": [
    "search = \"Diff\"\n",
    "\n",
    "removelist=[\"Diff\",\"player\", \"Player\", \"perk\", \"highestAchievedSeasonTier\", \"totalScoreRank\", \"timeline_participantId\"]\n",
    "\n",
    "for i in range(len(removelist)):\n",
    "    search = removelist[i]\n",
    "\n",
    "    for word in col_name:\n",
    "        if search in word: \n",
    "            print('>> remove: ' + word)\n",
    "            resolved=resolved.drop(word, axis=1)"
   ]
  },
  {
   "attachments": {},
   "cell_type": "markdown",
   "metadata": {},
   "source": [
    "### Ranked Match Game 파일 저장"
   ]
  },
  {
   "cell_type": "code",
   "execution_count": null,
   "metadata": {},
   "outputs": [],
   "source": [
    "resolved.to_csv('ranked_game.csv')"
   ]
  },
  {
   "cell_type": "code",
   "execution_count": null,
   "metadata": {},
   "outputs": [],
   "source": [
    "# del resolved\n",
    "# del match_df"
   ]
  },
  {
   "attachments": {},
   "cell_type": "markdown",
   "metadata": {},
   "source": [
    "# winner data"
   ]
  },
  {
   "cell_type": "code",
   "execution_count": null,
   "metadata": {},
   "outputs": [],
   "source": [
    "winner_data = pd.read_csv('match_winner_data_version1.csv')\n",
    "winner_data.shape"
   ]
  },
  {
   "cell_type": "code",
   "execution_count": null,
   "metadata": {},
   "outputs": [],
   "source": [
    "list(winner_data.columns)"
   ]
  },
  {
   "cell_type": "code",
   "execution_count": null,
   "metadata": {},
   "outputs": [],
   "source": [
    "winner_data.head()"
   ]
  },
  {
   "attachments": {},
   "cell_type": "markdown",
   "metadata": {},
   "source": [
    "### 중복 데이터 제거"
   ]
  },
  {
   "cell_type": "code",
   "execution_count": null,
   "metadata": {},
   "outputs": [],
   "source": [
    "winner_data = winner_data.drop_duplicates(['gameId'])"
   ]
  },
  {
   "attachments": {},
   "cell_type": "markdown",
   "metadata": {},
   "source": [
    "### 밴픽 Dictionary solve"
   ]
  },
  {
   "cell_type": "code",
   "execution_count": null,
   "metadata": {},
   "outputs": [],
   "source": [
    "for i in range(5):\n",
    "    winner_data['ban_champion_'+ str(i+1)] = np.NaN"
   ]
  },
  {
   "cell_type": "code",
   "execution_count": null,
   "metadata": {},
   "outputs": [],
   "source": [
    "winner_data.head()"
   ]
  },
  {
   "cell_type": "code",
   "execution_count": null,
   "metadata": {},
   "outputs": [],
   "source": [
    "n = winner_data.shape[0]\n",
    "\n",
    "for i in range(n): \n",
    "    try:\n",
    "        for j in range(5):\n",
    "            for key, value in ast.literal_eval(winner_data['bans'][i])[j].items():\n",
    "                \n",
    "                if key == 'championId':\n",
    "                    winner_data.loc[i,'ban_champion_'+ str(j+1)] = value\n",
    "    except:\n",
    "        pass\n",
    "                \n",
    "winner_data.head()"
   ]
  },
  {
   "cell_type": "code",
   "execution_count": null,
   "metadata": {},
   "outputs": [],
   "source": [
    "winner_data = winner_data.drop('bans', axis=1)"
   ]
  },
  {
   "cell_type": "code",
   "execution_count": null,
   "metadata": {},
   "outputs": [],
   "source": [
    "winner_data.to_csv(\"winner_edit.csv\", mode='w')"
   ]
  },
  {
   "cell_type": "code",
   "execution_count": null,
   "metadata": {},
   "outputs": [],
   "source": [
    "# del winner_data"
   ]
  },
  {
   "attachments": {},
   "cell_type": "markdown",
   "metadata": {},
   "source": [
    "# Loser data"
   ]
  },
  {
   "cell_type": "code",
   "execution_count": null,
   "metadata": {},
   "outputs": [],
   "source": [
    "loser_data = pd.read_csv('match_loser_data_version1.csv')\n",
    "loser_data.shape"
   ]
  },
  {
   "cell_type": "code",
   "execution_count": null,
   "metadata": {},
   "outputs": [],
   "source": [
    "list(loser_data.columns)"
   ]
  },
  {
   "cell_type": "code",
   "execution_count": null,
   "metadata": {},
   "outputs": [],
   "source": [
    "loser_data.head()"
   ]
  },
  {
   "attachments": {},
   "cell_type": "markdown",
   "metadata": {},
   "source": [
    "### 중복 데이터 제거"
   ]
  },
  {
   "cell_type": "code",
   "execution_count": null,
   "metadata": {},
   "outputs": [],
   "source": [
    "loser_data = loser_data.drop_duplicates(['gameId'])"
   ]
  },
  {
   "attachments": {},
   "cell_type": "markdown",
   "metadata": {},
   "source": [
    "### 밴픽 Dictionary solve"
   ]
  },
  {
   "cell_type": "code",
   "execution_count": null,
   "metadata": {},
   "outputs": [],
   "source": [
    "for i in range(5):\n",
    "    loser_data['ban_champion_'+ str(i+1)] = np.NaN\n",
    "loser_data.head()"
   ]
  },
  {
   "cell_type": "code",
   "execution_count": null,
   "metadata": {},
   "outputs": [],
   "source": [
    "n = loser_data.shape[0]\n",
    "\n",
    "for i in range(n): \n",
    "    try:\n",
    "        for j in range(5):\n",
    "            for key, value in eval(loser_data['bans'][i])[j].items():\n",
    "                \n",
    "                if key == 'championId':\n",
    "                    loser_data.loc[i,'ban_champion_'+ str(j+1)] = value\n",
    "    except:\n",
    "        pass\n",
    "                \n",
    "loser_data.head()"
   ]
  },
  {
   "cell_type": "code",
   "execution_count": null,
   "metadata": {},
   "outputs": [],
   "source": [
    "loser_data = loser_data.drop('bans', axis=1)"
   ]
  },
  {
   "cell_type": "code",
   "execution_count": null,
   "metadata": {},
   "outputs": [],
   "source": [
    "loser_data.to_csv(\"loser_edit.csv\", mode='w')"
   ]
  },
  {
   "cell_type": "code",
   "execution_count": null,
   "metadata": {},
   "outputs": [],
   "source": [
    "# del loser_data"
   ]
  },
  {
   "attachments": {},
   "cell_type": "markdown",
   "metadata": {},
   "source": [
    "# win/lose data에서 랭크게임 가져오기"
   ]
  },
  {
   "attachments": {},
   "cell_type": "markdown",
   "metadata": {},
   "source": [
    "### winner/loser data의 랭크게임을 추출하기 위해 전체 랭크게임의 gameId와 비교"
   ]
  },
  {
   "cell_type": "code",
   "execution_count": null,
   "metadata": {},
   "outputs": [],
   "source": [
    "game_id_list = list(resolved[\"gameId\"])\n",
    "\n",
    "game_id_list"
   ]
  },
  {
   "attachments": {},
   "cell_type": "markdown",
   "metadata": {},
   "source": [
    "### 전체 랭크 게임과 gameId가 일치하는 경기들만 추출"
   ]
  },
  {
   "cell_type": "code",
   "execution_count": null,
   "metadata": {},
   "outputs": [],
   "source": [
    "win_data_rank = winner_data[winner_data['gameId'].isin(game_id_list)]\n",
    "lose_data_rank = loser_data[loser_data['gameId'].isin(game_id_list)]"
   ]
  },
  {
   "cell_type": "code",
   "execution_count": null,
   "metadata": {},
   "outputs": [],
   "source": [
    "win_data_rank.to_csv(\"ranked_winner_game_edit.csv\", index = None)\n",
    "lose_data_rank.to_csv(\"ranked_loser_game_edit.csv\", index = None)"
   ]
  },
  {
   "attachments": {},
   "cell_type": "markdown",
   "metadata": {},
   "source": [
    "### team100 데이터 추출"
   ]
  },
  {
   "cell_type": "code",
   "execution_count": null,
   "metadata": {},
   "outputs": [],
   "source": [
    "team100 = resolved.copy()\n",
    "\n",
    "resolved_col_name = resolved.columns.tolist()\n",
    "\n",
    "removelist2=[\"P6\", \"P7\", \"P8\", \"P9\", \"P10\"]\n",
    "\n",
    "for i in range(len(removelist2)):\n",
    "    search = removelist2[i]\n",
    "\n",
    "    for word in resolved_col_name:\n",
    "        if search in word: \n",
    "            print('>> remove: ' + word)\n",
    "            team100 = team100.drop(word, axis=1)\n",
    "\n",
    "team100.to_csv(\"team100_ranked.csv\", index = None)"
   ]
  },
  {
   "attachments": {},
   "cell_type": "markdown",
   "metadata": {},
   "source": [
    "### team200 데이터 추출"
   ]
  },
  {
   "cell_type": "code",
   "execution_count": null,
   "metadata": {},
   "outputs": [],
   "source": [
    "team200 = resolved.copy()\n",
    "\n",
    "team100_columns = team100.columns.tolist()\n",
    "\n",
    "del team100_columns[0:4]\n",
    "\n",
    "team200 = team200.drop(team100_columns, axis=1)\n",
    "\n",
    "team200.to_csv(\"team200_ranked.csv\", index = None)"
   ]
  }
 ],
 "metadata": {
  "kernelspec": {
   "display_name": "Python 3",
   "language": "python",
   "name": "python3"
  },
  "language_info": {
   "codemirror_mode": {
    "name": "ipython",
    "version": 3
   },
   "file_extension": ".py",
   "mimetype": "text/x-python",
   "name": "python",
   "nbconvert_exporter": "python",
   "pygments_lexer": "ipython3",
   "version": "3.10.8"
  },
  "orig_nbformat": 4,
  "vscode": {
   "interpreter": {
    "hash": "d3e10ef16274dd72e574b8fa73b58450b957d8421a2901baded3cca26fcf5dda"
   }
  }
 },
 "nbformat": 4,
 "nbformat_minor": 2
}
